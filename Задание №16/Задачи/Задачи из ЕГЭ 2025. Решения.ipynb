{
 "cells": [
  {
   "cell_type": "markdown",
   "id": "6e259959",
   "metadata": {},
   "source": [
    "# Задачи из ЕГЭ 2025. Решения\n",
    "\n",
    "В этом файле собраны задачи, которые встречались последние несколько лет на самом экзамене: основная, досрочная и резервная волны, пересдачи и пробные экзамены."
   ]
  },
  {
   "cell_type": "markdown",
   "id": "f52a9c6f",
   "metadata": {},
   "source": [
    "**Задание №1**<br>\n",
    "Алгоритм вычисления значения функции F(n), где n – целое число, задан следующими соотношениями:<br>\n",
    "\n",
    "F(n) = n, если n < 5;<br>\n",
    "F(n) = 2 × n × F(n − 4), если n ≥ 5.<br>\n",
    "\n",
    "Чему равно значение функции (F(13766) − 9 × F(13762)) / F(13758)?<br>\n",
    "\n",
    "*Источник: КЕГЭ. ЕГКР 21.12.24. Задание №19248.*<br>\n",
    "<details>\n",
    "  <summary><b>Показать ответ</b></summary>\n",
    "  Ответ: 757543052\n",
    "</details>"
   ]
  },
  {
   "cell_type": "code",
   "execution_count": null,
   "id": "eb6b48b3",
   "metadata": {},
   "outputs": [
    {
     "name": "stdout",
     "output_type": "stream",
     "text": [
      "757543052.0\n"
     ]
    }
   ],
   "source": [
    "from functools import *\n",
    "\n",
    "@lru_cache(None)\n",
    "def F(n):\n",
    "    if n < 5:\n",
    "        return n\n",
    "    if n >= 5:\n",
    "        return 2 * n * F(n - 4)\n",
    "\n",
    "for x in range(13766 + 1):\n",
    "    F(x)\n",
    "\n",
    "print((F(13766)-9*F(13762))/F(13758))"
   ]
  },
  {
   "cell_type": "markdown",
   "id": "c30f6b48",
   "metadata": {},
   "source": [
    "**Задание №2**<br>\n",
    "Алгоритм вычисления значения функции F(n), где n – натуральное число, задан следующими соотношениями:<br>\n",
    "\n",
    "F(n) = 1 при n = 1;<br>\n",
    "F(n) = (n − 1) × F(n − 1), если n > 1.<br>\n",
    "\n",
    "Чему равно значение выражения (F(2024) + 2 × F(2023)) // F(2022)?<br>\n",
    "\n",
    "*Источник: Демоверсия ЕГЭ 2025 по Информатике*<br>\n",
    "<details>\n",
    "  <summary><b>Показать ответ</b></summary>\n",
    "  Ответ: 4094550\n",
    "</details>"
   ]
  },
  {
   "cell_type": "code",
   "execution_count": 4,
   "id": "7f5aa1e6",
   "metadata": {},
   "outputs": [
    {
     "name": "stdout",
     "output_type": "stream",
     "text": [
      "4094550\n"
     ]
    }
   ],
   "source": [
    "from functools import *\n",
    "\n",
    "@lru_cache(None)\n",
    "def F(n):\n",
    "    if n == 1:\n",
    "        return 1\n",
    "    if n > 1:\n",
    "        return (n - 1) * F(n - 1)\n",
    "\n",
    "for x in range(2024 + 1):\n",
    "    F(x)\n",
    "\n",
    "print((F(2024) + 2 * F(2023)) // F(2022))"
   ]
  },
  {
   "cell_type": "markdown",
   "id": "52cc0a04",
   "metadata": {},
   "source": [
    "**Задание №3**<br>\n",
    "Алгоритм вычисления значения функции F(n), где n – натуральное число, задан следующими соотношениями:<br>\n",
    "\n",
    "F(n) = 1, при n = 1;<br>\n",
    "F(n) = n × F(n − 1), если n > 1.<br>\n",
    "\n",
    "Чему равно значение выражения (F(2024) / 4 + F(2023)) / F(2022)?<br>\n",
    "\n",
    "*Источник: КЕГЭ. Апробация 05.03.25. №20906*<br>\n",
    "<details>\n",
    "  <summary><b>Показать ответ</b></summary>\n",
    "  Ответ: 1025661\n",
    "</details>"
   ]
  },
  {
   "cell_type": "code",
   "execution_count": 6,
   "id": "43ecdf60",
   "metadata": {},
   "outputs": [
    {
     "name": "stdout",
     "output_type": "stream",
     "text": [
      "1025661\n"
     ]
    }
   ],
   "source": [
    "from functools import *\n",
    "\n",
    "@lru_cache(None)\n",
    "def F(n):\n",
    "    if n == 1:\n",
    "        return 1\n",
    "    if n > 1:\n",
    "        return n * F(n - 1)\n",
    "\n",
    "for x in range(2024 + 1):\n",
    "    F(x)\n",
    "\n",
    "print((F(2024) // 4 + F(2023)) // F(2022))"
   ]
  },
  {
   "cell_type": "markdown",
   "id": "eb8b0ec6",
   "metadata": {},
   "source": [
    "**Задание №4**<br>\n",
    "Алгоритм вычисления значения функции F(n), где n – целое число, задан следующими соотношениями:<br>\n",
    "\n",
    "F(n) = 1, при n ≤ 5;<br>\n",
    "F(n) = n + F(n – 2), если n > 5.<br>\n",
    "\n",
    "Чему равно значение выражения F(2126) – F(2122)?<br>\n",
    "\n",
    "*Источник: КЕГЭ. Досрочная волна 2025. №21415*<br>\n",
    "<details>\n",
    "  <summary><b>Показать ответ</b></summary>\n",
    "  Ответ: 4250\n",
    "</details>"
   ]
  },
  {
   "cell_type": "code",
   "execution_count": 8,
   "id": "f889468a",
   "metadata": {},
   "outputs": [
    {
     "name": "stdout",
     "output_type": "stream",
     "text": [
      "4250\n"
     ]
    }
   ],
   "source": [
    "def F(n):\n",
    "    if n <= 5:\n",
    "        return 1\n",
    "    if n > 5:\n",
    "        return n + F(n - 2)\n",
    "\n",
    "print(F(2126)-F(2122))"
   ]
  },
  {
   "cell_type": "markdown",
   "id": "a5c65f82",
   "metadata": {},
   "source": [
    "**Задание №5**<br>\n",
    "Алгоритм вычисления значения функции F(n), где n – целое число, задан следующими соотношениями:<br>\n",
    "\n",
    "F(n) = n, при n < 20;<br>\n",
    "F(n) = (n − 6) × F(n – 7), если n ≥ 20.<br>\n",
    "\n",
    "Чему равно значение выражения (F(47872) − 290 × F(47865)) / F(47858)?<br>\n",
    "\n",
    "*Источник: КЕГЭ. ЕГКР 19.04.25. №21711*<br>\n",
    "<details>\n",
    "  <summary><b>Показать ответ</b></summary>\n",
    "  Ответ: 2276939784\n",
    "</details>"
   ]
  },
  {
   "cell_type": "code",
   "execution_count": 1,
   "id": "cae4df5f",
   "metadata": {},
   "outputs": [
    {
     "name": "stdout",
     "output_type": "stream",
     "text": [
      "2276939784\n"
     ]
    }
   ],
   "source": [
    "from functools import *\n",
    "\n",
    "@lru_cache(None)\n",
    "def F(n):\n",
    "    if n < 20:\n",
    "        return n\n",
    "    if n >= 20:\n",
    "        return (n - 6) * F(n - 7)\n",
    "\n",
    "for x in range(47872 + 1):\n",
    "    F(x)\n",
    "\n",
    "print((F(47872) - 290 * F(47865)) // F(47858))"
   ]
  },
  {
   "cell_type": "markdown",
   "id": "bfe257d1",
   "metadata": {},
   "source": [
    "**Задание №6**<br>\n",
    "Алгоритм вычисления значения функции F(n), где n – целое число, задан следующими соотношениями:<br>\n",
    "\n",
    "F(n) = n, при n ≥ 2025;<br>\n",
    "F(n) = n × 2 + F(n + 2), если n < 2025.<br>\n",
    "\n",
    "Чему равно значение выражения F(82) – F(81)?<br>\n",
    "\n",
    "*Источник: КЕГЭ. Открытый вариант 2025. №21902*<br>\n",
    "<details>\n",
    "  <summary><b>Показать ответ</b></summary>\n",
    "  Ответ: 1945\n",
    "</details>"
   ]
  },
  {
   "cell_type": "code",
   "execution_count": null,
   "id": "127b06fb",
   "metadata": {},
   "outputs": [
    {
     "name": "stdout",
     "output_type": "stream",
     "text": [
      "1945\n"
     ]
    }
   ],
   "source": [
    "def F(n):\n",
    "    if n >= 2025:\n",
    "        return n\n",
    "    if n < 2025:\n",
    "        return n * 2 + F(n + 2)\n",
    "\n",
    "print(F(82) - F(81))"
   ]
  },
  {
   "cell_type": "markdown",
   "id": "12b66eec",
   "metadata": {},
   "source": [
    "**Задание №7**<br>\n",
    "Алгоритм вычисления значения функции F(n), где n – целое число, задан следующими соотношениями:<br>\n",
    "\n",
    "F(n) = n, при n < 10;<br>\n",
    "F(n) = 3n + F(n − 3), если n ≥ 10.<br>\n",
    "\n",
    "Чему равно значение выражения (F(6250) + 2 × F(6244)) / F(6238)?<br>\n",
    "В ответе запишите целую часть полученного числа<br>\n",
    "\n",
    "*Источник: КЕГЭ. Основная волна 10.06.25. №23200*<br>\n",
    "<details>\n",
    "  <summary><b>Показать ответ</b></summary>\n",
    "  Ответ: 3\n",
    "</details>"
   ]
  },
  {
   "cell_type": "code",
   "execution_count": 5,
   "id": "ccd13670",
   "metadata": {},
   "outputs": [
    {
     "name": "stdout",
     "output_type": "stream",
     "text": [
      "3\n"
     ]
    }
   ],
   "source": [
    "from functools import *\n",
    "\n",
    "@lru_cache(None)\n",
    "def F(n):\n",
    "    if n < 10:\n",
    "        return n\n",
    "    if n >= 10:\n",
    "        return 3 * n + F(n - 3)\n",
    "\n",
    "for x in range(6250 + 1):\n",
    "    F(x)\n",
    "\n",
    "print((F(6250) + 2 * F(6244)) // F(6238))"
   ]
  },
  {
   "cell_type": "markdown",
   "id": "4cc8da37",
   "metadata": {},
   "source": [
    "**Задание №8**<br>\n",
    "Алгоритм вычисления значения функции F(n) и G(n), где n – целое число, задан следующими соотношениями:\n",
    "\n",
    "F(n) = 2 × (G(n − 3) + 8);<br>\n",
    "G(n) = 2 × n, если n < 10;<br>\n",
    "G(n) = G(n − 2) + 1, если n ≥ 10.<br>\n",
    "\n",
    "Чему равно значение выражения F(15548)?<br>\n",
    "\n",
    "*Источник: КЕГЭ. Основная волна 11.06.25. №23275*<br>\n",
    "<details>\n",
    "  <summary><b>Показать ответ</b></summary>\n",
    "  Ответ: 15588\n",
    "</details>"
   ]
  },
  {
   "cell_type": "code",
   "execution_count": 6,
   "id": "eb4de7de",
   "metadata": {},
   "outputs": [
    {
     "name": "stdout",
     "output_type": "stream",
     "text": [
      "15588\n"
     ]
    }
   ],
   "source": [
    "from functools import *\n",
    "\n",
    "@lru_cache(None)\n",
    "def G(n):\n",
    "    if n < 10:\n",
    "        return 2 * n\n",
    "    if n >= 10:\n",
    "        return G(n - 2) + 1\n",
    "\n",
    "def F(n):\n",
    "    return 2 * (G(n - 3) + 8)\n",
    "\n",
    "for x in range(15548 + 1):\n",
    "    G(x)\n",
    "\n",
    "print(F(15548))"
   ]
  },
  {
   "cell_type": "markdown",
   "id": "99849452",
   "metadata": {},
   "source": [
    "**Задание №9**<br>\n",
    "Алгоритм вычисления значения функции F(n) и G(n), где n – целое число, задан следующими соотношениями:<br>\n",
    "\n",
    "F(n) = G(n − 1) + G(n − 3);<br>\n",
    "G(n) = 3 × n, если n ≤ 9;<br>\n",
    "G(n) = G(n − 4) + 2, если n > 9.<br>\n",
    "\n",
    "Чему равно значение выражения F(42999)?<br>\n",
    "\n",
    "*Источник: КЕГЭ. Резервный день 19.06.25. №23375*<br>\n",
    "<details>\n",
    "  <summary><b>Показать ответ</b></summary>\n",
    "  Ответ: 43032\n",
    "</details>"
   ]
  },
  {
   "cell_type": "code",
   "execution_count": 7,
   "id": "161c6685",
   "metadata": {},
   "outputs": [
    {
     "name": "stdout",
     "output_type": "stream",
     "text": [
      "43032\n"
     ]
    }
   ],
   "source": [
    "from functools import *\n",
    "\n",
    "@lru_cache(None)\n",
    "def G(n):\n",
    "    if n <= 9:\n",
    "        return 3 * n\n",
    "    if n > 9:\n",
    "        return G(n - 4) + 2\n",
    "\n",
    "def F(n):\n",
    "    return G(n - 1) + G(n - 3)\n",
    "\n",
    "for x in range(42999 + 1):\n",
    "    G(x)\n",
    "\n",
    "print(F(42999))"
   ]
  },
  {
   "cell_type": "markdown",
   "id": "63323217",
   "metadata": {},
   "source": [
    "**Задание №10**<br>\n",
    "Алгоритм вычисления значения функции где n – натуральное число, задан следующими соотношениями:\n",
    "\n",
    "F(n) = G(n - 3);\n",
    "G(n) = n, при n <= 20;\n",
    "G(n) = G(n - 2) + 1, при n > 20.\n",
    "\n",
    "Чему равно значение функции F(25000)?<br>\n",
    "\n",
    "*Источник: КЕГЭ. Резервный день 23.06.25. №23426*<br>\n",
    "<details>\n",
    "  <summary><b>Показать ответ</b></summary>\n",
    "  Ответ: 12508\n",
    "</details>"
   ]
  },
  {
   "cell_type": "code",
   "execution_count": 8,
   "id": "51e45f50",
   "metadata": {},
   "outputs": [
    {
     "name": "stdout",
     "output_type": "stream",
     "text": [
      "12508\n"
     ]
    }
   ],
   "source": [
    "from functools import *\n",
    "\n",
    "@lru_cache(None)\n",
    "def G(n):\n",
    "    if n <= 20:\n",
    "        return n\n",
    "    if n > 20:\n",
    "        return G(n - 2) + 1\n",
    "\n",
    "def F(n):\n",
    "    return G(n - 3)\n",
    "\n",
    "for x in range(25000 + 1):\n",
    "    G(x)\n",
    "\n",
    "print(F(25000))"
   ]
  },
  {
   "cell_type": "markdown",
   "id": "6ee8b85a",
   "metadata": {},
   "source": [
    "**Задание №11**<br>\n",
    "Алгоритм вычисления значения функции F(n) и G(n), где n – целое число, задан следующими соотношениями:<br>\n",
    "\n",
    "F(n) = G(n − 1);<br>\n",
    "G(n) = 3 × n, если n ≤ 9.<br>\n",
    "G(n) = G(n − 2) + 1, если n > 9.<br>\n",
    "\n",
    "Чему равно значение выражения F(47995)?<br>\n",
    "\n",
    "*Источник: КЕГЭ. Пересдача 03.07.25. №23562*<br>\n",
    "<details>\n",
    "  <summary><b>Показать ответ</b></summary>\n",
    "  Ответ: 24017\n",
    "</details>"
   ]
  },
  {
   "cell_type": "code",
   "execution_count": 9,
   "id": "ccfab307",
   "metadata": {},
   "outputs": [
    {
     "name": "stdout",
     "output_type": "stream",
     "text": [
      "24017\n"
     ]
    }
   ],
   "source": [
    "from functools import *\n",
    "\n",
    "@lru_cache(None)\n",
    "def G(n):\n",
    "    if n <= 9:\n",
    "        return 3 * n\n",
    "    if n > 9:\n",
    "        return G(n - 2) + 1\n",
    "\n",
    "def F(n):\n",
    "    return G(n - 1)\n",
    "\n",
    "for x in range(47995 + 1):\n",
    "    G(x)\n",
    "\n",
    "print(F(47995))"
   ]
  }
 ],
 "metadata": {
  "kernelspec": {
   "display_name": "Python 3",
   "language": "python",
   "name": "python3"
  },
  "language_info": {
   "codemirror_mode": {
    "name": "ipython",
    "version": 3
   },
   "file_extension": ".py",
   "mimetype": "text/x-python",
   "name": "python",
   "nbconvert_exporter": "python",
   "pygments_lexer": "ipython3",
   "version": "3.10.7"
  }
 },
 "nbformat": 4,
 "nbformat_minor": 5
}
