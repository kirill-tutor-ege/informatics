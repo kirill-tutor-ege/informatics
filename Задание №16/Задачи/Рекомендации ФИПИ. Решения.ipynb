{
 "cells": [
  {
   "cell_type": "markdown",
   "id": "39f2e9a8",
   "metadata": {},
   "source": [
    "# Задачи. Рекомендации ФИПИ. Решения\n",
    "\n",
    "В этом файле собраны все задачи, рекомендованные ФИПИ для подготовки к заданию №16 из ЕГЭ по информатике"
   ]
  },
  {
   "cell_type": "markdown",
   "id": "4df61ecd",
   "metadata": {},
   "source": [
    "**Задание №1**<br>\n",
    "Алгоритм вычисления значения функции F(n), где n – натуральное число, задан следующими соотношениями:<br>\n",
    "\n",
    "F(n) = 1 при n < 3;<br>\n",
    "F(n) = F(n − 2) − F(n − 1), если n > 2 и при этом n чётно;<br>\n",
    "F(n) = 2 × F(n − 1) − F(n − 2), если n > 2 и при этом n нечётно.<br>\n",
    "\n",
    "Чему равно значение функции F(15)?<br>\n",
    "*Источник: Открытый банк заданий ФИПИ. Задание №859446.*<br>\n",
    "<details>\n",
    "  <summary><b>Показать ответ</b></summary>\n",
    "  Ответ: 99\n",
    "</details>"
   ]
  },
  {
   "cell_type": "code",
   "execution_count": 1,
   "id": "a871ab1e",
   "metadata": {},
   "outputs": [
    {
     "name": "stdout",
     "output_type": "stream",
     "text": [
      "99\n"
     ]
    }
   ],
   "source": [
    "def F(n):\n",
    "    if n < 3:\n",
    "        return 1\n",
    "    if n > 2 and n % 2 == 0:\n",
    "        return F(n - 2) - F(n - 1)\n",
    "    if n > 2 and n % 2 != 0:\n",
    "        return 2 * F(n - 1) - F(n - 2)\n",
    "\n",
    "print(F(15))"
   ]
  },
  {
   "cell_type": "markdown",
   "id": "91ad5b4b",
   "metadata": {},
   "source": [
    "**Задание №2**<br>\n",
    "Алгоритм вычисления значения функции F(n), где n – натуральное число, задан следующими соотношениями:<br>\n",
    "\n",
    "F(n) = 6 при n < 7;<br>\n",
    "F(n) = n + F(n − 1), если n ≥ 7.<br>\n",
    "\n",
    "Чему равно значение выражения F(2023) – F(2021)?<br>\n",
    "*Источник: Открытый банк заданий ФИПИ. Задание №DB8EF2.*<br>\n",
    "<details>\n",
    "  <summary><b>Показать ответ</b></summary>\n",
    "  Ответ: 4045\n",
    "</details>"
   ]
  },
  {
   "cell_type": "code",
   "execution_count": 2,
   "id": "ec0e9bfc",
   "metadata": {},
   "outputs": [
    {
     "name": "stdout",
     "output_type": "stream",
     "text": [
      "4045\n"
     ]
    }
   ],
   "source": [
    "def F(n):\n",
    "    if n < 7:\n",
    "        return 6\n",
    "    if n >= 7:\n",
    "        return n + F(n - 1)\n",
    "\n",
    "print(F(2023) - F(2021))"
   ]
  },
  {
   "cell_type": "markdown",
   "id": "1742da87",
   "metadata": {},
   "source": [
    "**Задание №3**<br>\n",
    "\n",
    "Алгоритм вычисления значения функции F(n), где n – натуральное число, задан следующими соотношениями:<br>\n",
    "\n",
    "F(n) = 10 при n < 11;<br>\n",
    "F(n) = n + F(n − 1), если n ≥ 11.<br>\n",
    "\n",
    "Чему равно значение выражения F(2024) – F(2021)?<br>\n",
    "*Источник: Открытый банк заданий ФИПИ. Задание №5838F2.*<br>\n",
    "<details>\n",
    "  <summary><b>Показать ответ</b></summary>\n",
    "  Ответ: 6069\n",
    "</details>"
   ]
  },
  {
   "cell_type": "code",
   "execution_count": 3,
   "id": "ea154188",
   "metadata": {},
   "outputs": [
    {
     "name": "stdout",
     "output_type": "stream",
     "text": [
      "6069\n"
     ]
    }
   ],
   "source": [
    "def F(n):\n",
    "    if n < 11:\n",
    "        return 10\n",
    "    if n >= 11:\n",
    "        return n + F(n - 1)\n",
    "\n",
    "print(F(2024) - F(2021))"
   ]
  },
  {
   "cell_type": "markdown",
   "id": "48b22679",
   "metadata": {},
   "source": [
    "**Задание №4**<br>\n",
    "Алгоритм вычисления значения функции F(n), где n – натуральное число, задан следующими соотношениями:<br>\n",
    "\n",
    "F(n) = 1 при n < 3;<br>\n",
    "F(n) = F(n − 2) − F(n − 1), если n > 2 и при этом n чётно;<br>\n",
    "F(n) = 2 × F(n − 1) − F(n − 2), если n > 2 и при этом n нечётно.<br>\n",
    "\n",
    "Чему равно значение функции F(31)?<br>\n",
    "*Источник: Открытый банк заданий ФИПИ. Задание №4D7975.*<br>\n",
    "<details>\n",
    "  <summary><b>Показать ответ</b></summary>\n",
    "  Ответ: 114243\n",
    "</details>"
   ]
  },
  {
   "cell_type": "code",
   "execution_count": 4,
   "id": "bda89021",
   "metadata": {},
   "outputs": [
    {
     "name": "stdout",
     "output_type": "stream",
     "text": [
      "114243\n"
     ]
    }
   ],
   "source": [
    "def F(n):\n",
    "    if n < 3:\n",
    "        return 1\n",
    "    if n > 2 and n % 2 == 0:\n",
    "        return F(n - 2) - F(n - 1)\n",
    "    if n > 2 and n % 2 != 0:\n",
    "        return 2 * F(n - 1) - F(n - 2)\n",
    "\n",
    "print(F(31))"
   ]
  },
  {
   "cell_type": "markdown",
   "id": "1e13eb0c",
   "metadata": {},
   "source": [
    "**Задание №5**<br>\n",
    "Алгоритм вычисления значения функции F(n), где n – натуральное число, задан следующими соотношениями:<br>\n",
    "\n",
    "F(n) = 3 при n < 3;<br>\n",
    "F(n) = n + F(n − 2), если n ≥ 3.<br>\n",
    "\n",
    "Чему равно значение выражения F(2022) – F(2018)?<br>\n",
    "*Источник: Открытый банк заданий ФИПИ. Задание №0E2072.*<br>\n",
    "<details>\n",
    "  <summary><b>Показать ответ</b></summary>\n",
    "  Ответ: 4042\n",
    "</details>"
   ]
  },
  {
   "cell_type": "code",
   "execution_count": 5,
   "id": "eb42a556",
   "metadata": {},
   "outputs": [
    {
     "name": "stdout",
     "output_type": "stream",
     "text": [
      "4042\n"
     ]
    }
   ],
   "source": [
    "def F(n):\n",
    "    if n < 3:\n",
    "        return 3\n",
    "    if n >= 3:\n",
    "        return n + F(n - 2)\n",
    "    \n",
    "print(F(2022) - F(2018))"
   ]
  },
  {
   "cell_type": "markdown",
   "id": "6c0cd8f2",
   "metadata": {},
   "source": [
    "**Задание №6**<br>\n",
    "Алгоритм вычисления значения функции F(n), где n – натуральное число, задан следующими соотношениями:<br>\n",
    "\n",
    "F(n) = 1 при n = 1;<br>\n",
    "F(n) = n + F(n − 1), если n > 1.<br>\n",
    "\n",
    "Чему равно значение выражения F(2023) – F(2020)?<br>\n",
    "*Источник: Открытый банк заданий ФИПИ. Задание №7C657B.*<br>\n",
    "<details>\n",
    "  <summary><b>Показать ответ</b></summary>\n",
    "  Ответ: 6066\n",
    "</details>"
   ]
  },
  {
   "cell_type": "code",
   "execution_count": 6,
   "id": "236ac377",
   "metadata": {},
   "outputs": [
    {
     "name": "stdout",
     "output_type": "stream",
     "text": [
      "6066\n"
     ]
    }
   ],
   "source": [
    "def F(n):\n",
    "    if n == 1:\n",
    "        return 1\n",
    "    if n > 1:\n",
    "        return n + F(n - 1)\n",
    "    \n",
    "print(F(2023) - F(2020))"
   ]
  },
  {
   "cell_type": "markdown",
   "id": "31546cf7",
   "metadata": {},
   "source": [
    "**Задание №7**<br>\n",
    "Алгоритм вычисления значения функции F(n), где n – целое неотрицательное число, задан следующими соотношениями:<br>\n",
    "\n",
    "F(n) = 0 при n ≤ 1;<br>\n",
    "F(n) = 2 × n + F(n − 1), если n > 1 и при этом n нечётно;<br>\n",
    "F(n) = 2 × F(n − 1) , если n > 1 и при этом n чётно.<br>\n",
    "\n",
    "Чему равно значение функции F(24)?<br>\n",
    "*Источник: Открытый банк заданий ФИПИ. Задание №4254B4.*<br>\n",
    "<details>\n",
    "  <summary><b>Показать ответ</b></summary>\n",
    "  Ответ: 40852\n",
    "</details>"
   ]
  },
  {
   "cell_type": "code",
   "execution_count": 7,
   "id": "f9d5de45",
   "metadata": {},
   "outputs": [
    {
     "name": "stdout",
     "output_type": "stream",
     "text": [
      "40852\n"
     ]
    }
   ],
   "source": [
    "def F(n):\n",
    "    if n <= 1:\n",
    "        return 0\n",
    "    if n > 1 and n % 2 != 0:\n",
    "        return 2 * n + F(n - 1)\n",
    "    if n > 1 and n % 2 == 0:\n",
    "        return 2 * F(n - 1)\n",
    "    \n",
    "print(F(24))"
   ]
  },
  {
   "cell_type": "markdown",
   "id": "1825f854",
   "metadata": {},
   "source": [
    "**Задание №8**<br>\n",
    "Алгоритм вычисления значения функции F(n), где n – натуральное число, задан следующими соотношениями:<br>\n",
    "\n",
    "F(n) = n при n >= 2025;<br>\n",
    "F(n) = n + 3 + F(n + 3), если n < 2025.<br>\n",
    "\n",
    "Чему равно значение выражения F(23) – F(21)?<br>\n",
    "*Источник: Открытый банк заданий ФИПИ. Задание №7C192E.*<br>\n",
    "<details>\n",
    "  <summary><b>Показать ответ</b></summary>\n",
    "  Ответ: 1338\n",
    "</details>"
   ]
  },
  {
   "cell_type": "code",
   "execution_count": 9,
   "id": "104fb726",
   "metadata": {},
   "outputs": [
    {
     "name": "stdout",
     "output_type": "stream",
     "text": [
      "1338\n"
     ]
    }
   ],
   "source": [
    "def F(n):\n",
    "    if n >= 2025:\n",
    "        return n\n",
    "    if n < 2025:\n",
    "        return n + 3 + F(n + 3)\n",
    "    \n",
    "print(F(23) - F(21))"
   ]
  },
  {
   "cell_type": "markdown",
   "id": "bdce97a4",
   "metadata": {},
   "source": [
    "**Задание №9**<br>\n",
    "Алгоритм вычисления значения функции F(n), где n – натуральное число, задан следующими соотношениями:<br>\n",
    "\n",
    "F(n) = 1 при n < 3;<br>\n",
    "F(n) = F(n − 1) + n − 1, если n > 2 и при этом n чётно;<br>\n",
    "F(n) = F(n − 2) + 2 × n − 2, если n > 2 и при этом n нечётно.<br>\n",
    "\n",
    "Чему равно значение функции F(36)?<br>\n",
    "*Источник: Открытый банк заданий ФИПИ. Задание №D9A32B.*<br>\n",
    "<details>\n",
    "  <summary><b>Показать ответ</b></summary>\n",
    "  Ответ: 648\n",
    "</details>"
   ]
  },
  {
   "cell_type": "code",
   "execution_count": 10,
   "id": "1f4c1efe",
   "metadata": {},
   "outputs": [
    {
     "name": "stdout",
     "output_type": "stream",
     "text": [
      "648\n"
     ]
    }
   ],
   "source": [
    "def F(n):\n",
    "    if n < 3:\n",
    "        return 1\n",
    "    if n > 2 and n % 2 == 0:\n",
    "        return F(n - 1) + n - 1\n",
    "    if n > 2 and n % 2 != 0:\n",
    "        return F(n - 2) + 2 * n - 2\n",
    "\n",
    "print(F(36))"
   ]
  },
  {
   "cell_type": "markdown",
   "id": "be70997d",
   "metadata": {},
   "source": [
    "**Задание №10**<br>\n",
    "Алгоритм вычисления значения функции F(n), где n – натуральное число, задан следующими соотношениями:<br>\n",
    "\n",
    "F(n) = 1 при n = 1;<br>\n",
    "F(n) = n + F(n − 1), если n чётно;<br>\n",
    "F(n) = 2 × F(n − 2), если n > 1 и при этом n нечётно.<br>\n",
    "\n",
    "Чему равно значение функции F(24)?<br>\n",
    "*Источник: Открытый банк заданий ФИПИ. Задание №4408DC.*<br>\n",
    "<details>\n",
    "  <summary><b>Показать ответ</b></summary>\n",
    "  Ответ: 2072\n",
    "</details>"
   ]
  },
  {
   "cell_type": "code",
   "execution_count": 11,
   "id": "ec2cb2a5",
   "metadata": {},
   "outputs": [
    {
     "name": "stdout",
     "output_type": "stream",
     "text": [
      "2072\n"
     ]
    }
   ],
   "source": [
    "def F(n):\n",
    "    if n == 1:\n",
    "        return 1\n",
    "    if n % 2 == 0:\n",
    "        return n + F(n - 1)\n",
    "    if n > 1 and n % 2 != 0:\n",
    "        return 2 * F(n - 2)\n",
    "\n",
    "print(F(24))"
   ]
  },
  {
   "cell_type": "markdown",
   "id": "3ca5532a",
   "metadata": {},
   "source": [
    "**Задание №11**<br>\n",
    "Алгоритм вычисления значения функции F(n), где n – натуральное число, задан следующими соотношениями:<br>\n",
    "\n",
    "F(n) = 1 при n < 3;<br>\n",
    "F(n) = F(n − 2) − F(n − 1), если n > 2 и при этом n чётно;<br>\n",
    "F(n) = 2 × F(n − 1) − F(n − 2), если n > 2 и при этом n нечётно.<br>\n",
    "\n",
    "Чему равно значение функции F(18)?<br>\n",
    "*Источник: Открытый банк заданий ФИПИ. Задание №1644D5.*<br>\n",
    "<details>\n",
    "  <summary><b>Показать ответ</b></summary>\n",
    "  Ответ: 169\n",
    "</details>"
   ]
  },
  {
   "cell_type": "code",
   "execution_count": 12,
   "id": "d2ba6279",
   "metadata": {},
   "outputs": [
    {
     "name": "stdout",
     "output_type": "stream",
     "text": [
      "169\n"
     ]
    }
   ],
   "source": [
    "def F(n):\n",
    "    if n < 3:\n",
    "        return 1\n",
    "    if n > 2 and n % 2 == 0:\n",
    "        return F(n - 2) - F(n - 1)\n",
    "    if n > 2 and n % 2 != 0:\n",
    "        return 2 * F(n - 1) - F(n - 2)\n",
    "\n",
    "print(F(18))"
   ]
  },
  {
   "cell_type": "markdown",
   "id": "a4e02a6f",
   "metadata": {},
   "source": [
    "**Задание №12**<br>\n",
    "Алгоритм вычисления значения функции F(n), где n – натуральное число, задан следующими соотношениями:<br>\n",
    "\n",
    "F(n) = 1 при n < 3;<br>\n",
    "F(n) = F(n − 1) + n − 1, если n > 2 и при этом n чётно;<br>\n",
    "F(n) = F(n − 2) + 2 × n − 2, если n > 2 и при этом n нечётно.<br>\n",
    "\n",
    "Чему равно значение функции F(33)?<br>\n",
    "*Источник: Открытый банк заданий ФИПИ. Задание №5F7DD8.*<br>\n",
    "<details>\n",
    "  <summary><b>Показать ответ</b></summary>\n",
    "  Ответ: 545\n",
    "</details>"
   ]
  },
  {
   "cell_type": "code",
   "execution_count": 1,
   "id": "e360693e",
   "metadata": {},
   "outputs": [
    {
     "name": "stdout",
     "output_type": "stream",
     "text": [
      "545\n"
     ]
    }
   ],
   "source": [
    "def F(n):\n",
    "    if n < 3:\n",
    "        return 1\n",
    "    if n > 2 and n % 2 == 0:\n",
    "        return F(n - 1) + n - 1\n",
    "    if n > 2 and n % 2 != 0:\n",
    "        return F(n - 2) + 2 * n - 2\n",
    "\n",
    "print(F(33))"
   ]
  },
  {
   "cell_type": "markdown",
   "id": "6f416635",
   "metadata": {},
   "source": [
    "**Задание №13**<br>\n",
    "Алгоритм вычисления значения функции F(n), где n – целое неотрицательное число, задан следующими соотношениями:<br>\n",
    "\n",
    "F(n) = 0 при n ≤ 1;<br>\n",
    "F(n) = 2 × n + F(n − 1), если n > 1 и при этом n нечётно;<br>\n",
    "F(n) = 2 × F(n − 1) , если n > 1 и при этом n чётно.<br>\n",
    "\n",
    "Чему равно значение функции F(22)?<br>\n",
    "*Источник: Открытый банк заданий ФИПИ. Задание №FF255D.*<br>\n",
    "<details>\n",
    "  <summary><b>Показать ответ</b></summary>\n",
    "  Ответ: 20380\n",
    "</details>"
   ]
  },
  {
   "cell_type": "code",
   "execution_count": 2,
   "id": "073f669b",
   "metadata": {},
   "outputs": [
    {
     "name": "stdout",
     "output_type": "stream",
     "text": [
      "20380\n"
     ]
    }
   ],
   "source": [
    "def F(n):\n",
    "    if n <= 1:\n",
    "        return 0\n",
    "    if n > 1 and n % 2 != 0:\n",
    "        return 2 * n + F(n - 1)\n",
    "    if n > 1 and n % 2 == 0:\n",
    "        return 2 * F(n - 1)\n",
    "\n",
    "print(F(22))"
   ]
  },
  {
   "cell_type": "markdown",
   "id": "668fafef",
   "metadata": {},
   "source": [
    "**Задание №14**<br>\n",
    "Алгоритм вычисления значения функции F(n), где n – целое неотрицательное число, задан следующими соотношениями:<br>\n",
    "\n",
    "F(n) = 0 при n ≤ 1;<br>\n",
    "F(n) = 2 × F(n − 1) + 2, если n > 1 и при этом n нечётно;<br>\n",
    "F(n) = n / 2 + F(n − 1), если n > 1 и при этом n чётно.<br>\n",
    "\n",
    "Чему равно значение функции F(26)?<br>\n",
    "*Примечание. При вычислении значения F(n) используется операция целочисленного деления.*<br>\n",
    "\n",
    "*Источник: Открытый банк заданий ФИПИ. Задание №FE70A9.*<br>\n",
    "<details>\n",
    "  <summary><b>Показать ответ</b></summary>\n",
    "  Ответ: 24559\n",
    "</details>"
   ]
  },
  {
   "cell_type": "code",
   "execution_count": 3,
   "id": "0262b11f",
   "metadata": {},
   "outputs": [
    {
     "name": "stdout",
     "output_type": "stream",
     "text": [
      "24559\n"
     ]
    }
   ],
   "source": [
    "def F(n):\n",
    "    if n <= 1:\n",
    "        return 0\n",
    "    if n > 1 and n % 2 != 0:\n",
    "        return 2 * F(n - 1) + 2\n",
    "    if n > 1 and n % 2 == 0:\n",
    "        return n // 2 + F(n - 1)\n",
    "\n",
    "print(F(26))"
   ]
  },
  {
   "cell_type": "markdown",
   "id": "3ed54be8",
   "metadata": {},
   "source": [
    "**Задание №15**<br>\n",
    "Алгоритм вычисления значения функции F(n), где n – натуральное число, задан следующими соотношениями:<br>\n",
    "\n",
    "F(n) = 1 при n = 1;<br>\n",
    "F(n) = n + F(n − 1), если n чётно;<br>\n",
    "F(n) = 2 × F(n − 2), если n > 1 и при этом n нечётно.<br>\n",
    "\n",
    "Чему равно значение функции F(24)?<br>\n",
    "\n",
    "*Источник: Открытый банк заданий ФИПИ. Задание №789B96.*<br>\n",
    "<details>\n",
    "  <summary><b>Показать ответ</b></summary>\n",
    "  Ответ: 2072\n",
    "</details>"
   ]
  },
  {
   "cell_type": "code",
   "execution_count": 5,
   "id": "96d8e4d4",
   "metadata": {},
   "outputs": [
    {
     "name": "stdout",
     "output_type": "stream",
     "text": [
      "2072\n"
     ]
    }
   ],
   "source": [
    "def F(n):\n",
    "    if n == 1:\n",
    "        return 1\n",
    "    if n % 2 == 0:\n",
    "        return n + F(n - 1)\n",
    "    if n > 1 and n % 2 != 0:\n",
    "        return 2 * F(n - 2)\n",
    "\n",
    "print(F(24))"
   ]
  },
  {
   "cell_type": "markdown",
   "id": "895436c3",
   "metadata": {},
   "source": [
    "**Задание №16**<br>\n",
    "Алгоритм вычисления значения функции F(n), где n – целое неотрицательное число, задан следующими соотношениями:<br>\n",
    "\n",
    "F(n) = 0 при n ≤ 1;<br>\n",
    "F(n) = 2 × F(n − 1) + 2, если n > 1 и при этом n нечётно;<br>\n",
    "F(n) = n / 2 + F(n − 1), если n > 1 и при этом n чётно.<br>\n",
    "\n",
    "Чему равно значение функции F(28)?<br>\n",
    "*Примечание. При вычислении значения F(n) используется операция целочисленного деления.*<br>\n",
    "\n",
    "*Источник: Открытый банк заданий ФИПИ. Задание №8C4B9D.*<br>\n",
    "<details>\n",
    "  <summary><b>Показать ответ</b></summary>\n",
    "  Ответ: 49134\n",
    "</details>"
   ]
  },
  {
   "cell_type": "code",
   "execution_count": 7,
   "id": "95ab9285",
   "metadata": {},
   "outputs": [
    {
     "name": "stdout",
     "output_type": "stream",
     "text": [
      "49134\n"
     ]
    }
   ],
   "source": [
    "def F(n):\n",
    "    if n <= 1:\n",
    "        return 0\n",
    "    if n > 1 and n % 2 != 0:\n",
    "        return 2 * F(n - 1) + 2\n",
    "    if n > 1 and n % 2 == 0:\n",
    "        return n // 2 + F(n - 1)\n",
    "\n",
    "print(F(28))"
   ]
  },
  {
   "cell_type": "markdown",
   "id": "01fbb308",
   "metadata": {},
   "source": [
    "**Задание №17**<br>\n",
    "Алгоритм вычисления значения функции F(n), где n – целое неотрицательное число, задан следующими соотношениями:<br>\n",
    "\n",
    "F(n) = 0 при n ≤ 1;<br>\n",
    "F(n) = 2 × F(n − 1) + 2, если n > 1 и при этом n нечётно;<br>\n",
    "F(n) = n / 2 + F(n − 1), если n > 1 и при этом n чётно.<br>\n",
    "\n",
    "Чему равно значение функции F(30)?<br>\n",
    "*Примечание. При вычислении значения F(n) используется операция целочисленного деления.*<br>\n",
    "\n",
    "*Источник: Открытый банк заданий ФИПИ. Задание №2C19E5.*<br>\n",
    "<details>\n",
    "  <summary><b>Показать ответ</b></summary>\n",
    "  Ответ: 98285\n",
    "</details>"
   ]
  },
  {
   "cell_type": "code",
   "execution_count": 8,
   "id": "d13443d2",
   "metadata": {},
   "outputs": [
    {
     "name": "stdout",
     "output_type": "stream",
     "text": [
      "98285\n"
     ]
    }
   ],
   "source": [
    "def F(n):\n",
    "    if n <= 1:\n",
    "        return 0\n",
    "    if n > 1 and n % 2 != 0:\n",
    "        return 2 * F(n - 1) + 2\n",
    "    if n > 1 and n % 2 == 0:\n",
    "        return n // 2 + F(n - 1)\n",
    "\n",
    "print(F(30))"
   ]
  },
  {
   "cell_type": "markdown",
   "id": "e30e1615",
   "metadata": {},
   "source": [
    "**Задание №18**<br>\n",
    "Алгоритм вычисления значения функции F(n), где n – натуральное число, задан следующими соотношениями:<br>\n",
    "\n",
    "F(n) = 2 при n < 3;<br>\n",
    "F(n) = F(n − 2) + F(n − 1) – n, если n > 2 и при этом n чётно;<br>\n",
    "F(n) = F(n − 1) − F(n − 2) + 2 × n, если n > 2 и при этом n нечётно.<br>\n",
    "\n",
    "Чему равно значение функции F(32)?<br>\n",
    "\n",
    "*Источник: Открытый банк заданий ФИПИ. Задание №3E7B68.*<br>\n",
    "<details>\n",
    "  <summary><b>Показать ответ</b></summary>\n",
    "  Ответ: 3194\n",
    "</details>"
   ]
  },
  {
   "cell_type": "code",
   "execution_count": 9,
   "id": "88a3da2e",
   "metadata": {},
   "outputs": [
    {
     "name": "stdout",
     "output_type": "stream",
     "text": [
      "3194\n"
     ]
    }
   ],
   "source": [
    "def F(n):\n",
    "    if n < 3:\n",
    "        return 2\n",
    "    if n > 2 and n % 2 == 0:\n",
    "        return F(n - 2) + F(n - 1) - n\n",
    "    if n > 2 and n % 2 != 0:\n",
    "        return F(n - 1) - F(n - 2) + 2 * n\n",
    "\n",
    "print(F(32))"
   ]
  },
  {
   "cell_type": "markdown",
   "id": "3cf97784",
   "metadata": {},
   "source": [
    "**Задание №19**<br>\n",
    "Алгоритм вычисления значения функции F(n), где n – целое неотрицательное число, задан следующими соотношениями:<br>\n",
    "\n",
    "F(n) = 0 при n ≤ 1;<br>\n",
    "F(n) = (n + 1) / 2 + F(n − 1), если n > 1 и при этом n нечётно;<br>\n",
    "F(n) = 2 × F(n − 1) + 1, если n > 1 и при этом n чётно.<br>\n",
    "\n",
    "Чему равно значение функции F(33)?<br>\n",
    "*Примечание. При вычислении значения F(n) используется операция целочисленного деления.*<br>\n",
    "\n",
    "*Источник: Открытый банк заданий ФИПИ. Задание №7C0639.*<br>\n",
    "<details>\n",
    "  <summary><b>Показать ответ</b></summary>\n",
    "  Ответ: 262124\n",
    "</details>"
   ]
  },
  {
   "cell_type": "code",
   "execution_count": 10,
   "id": "a8b2fb6d",
   "metadata": {},
   "outputs": [
    {
     "name": "stdout",
     "output_type": "stream",
     "text": [
      "262124\n"
     ]
    }
   ],
   "source": [
    "def F(n):\n",
    "    if n <= 1:\n",
    "        return 0\n",
    "    if n > 1 and n % 2 != 0:\n",
    "        return (n + 1) // 2 + F(n - 1)\n",
    "    if n > 1 and n % 2 == 0:\n",
    "        return 2 * F(n - 1) + 1\n",
    "\n",
    "print(F(33))"
   ]
  },
  {
   "cell_type": "markdown",
   "id": "16899b7e",
   "metadata": {},
   "source": [
    "**Задание №20**<br>\n",
    "Алгоритм вычисления значения функции F(n), где n – натуральное число, задан следующими соотношениями:<br>\n",
    "\n",
    "F(n) = n при n >= 2025;<br>\n",
    "F(n) = n + 3 + F(n + 3), если n < 2025.<br>\n",
    "\n",
    "Чему равно значение выражения F(2018) – F(2022)?<br>\n",
    "\n",
    "*Источник: Открытый банк заданий ФИПИ. Задание №45D78C.*<br>\n",
    "<details>\n",
    "  <summary><b>Показать ответ</b></summary>\n",
    "  Ответ: 4049\n",
    "</details>"
   ]
  },
  {
   "cell_type": "code",
   "execution_count": 11,
   "id": "46c10aaa",
   "metadata": {},
   "outputs": [
    {
     "name": "stdout",
     "output_type": "stream",
     "text": [
      "4049\n"
     ]
    }
   ],
   "source": [
    "def F(n):\n",
    "    if n >= 2025:\n",
    "        return n\n",
    "    if n < 2025:\n",
    "        return n + 3 + F(n + 3)\n",
    "\n",
    "print(F(2018) - F(2022))"
   ]
  },
  {
   "cell_type": "markdown",
   "id": "94e4e9ac",
   "metadata": {},
   "source": [
    "**Задание №21**<br>\n",
    "Алгоритм вычисления значения функции F(n), где n – натуральное число, задан следующими соотношениями:<br>\n",
    "\n",
    "F(n) = 1 при n = 1;<br>\n",
    "F(n) = n – 2 + F(n − 1), если n > 1.<br>\n",
    "\n",
    "Чему равно значение выражения F(2024) – F(2022)?<br>\n",
    "\n",
    "*Источник: Открытый банк заданий ФИПИ. Задание №C0EC82.*<br>\n",
    "<details>\n",
    "  <summary><b>Показать ответ</b></summary>\n",
    "  Ответ: 4043\n",
    "</details>"
   ]
  },
  {
   "cell_type": "code",
   "execution_count": 12,
   "id": "26c75660",
   "metadata": {},
   "outputs": [
    {
     "name": "stdout",
     "output_type": "stream",
     "text": [
      "4043\n"
     ]
    }
   ],
   "source": [
    "def F(n):\n",
    "    if n == 1:\n",
    "        return 1\n",
    "    if n > 1:\n",
    "        return n - 2 + F(n - 1)\n",
    "\n",
    "print(F(2024) - F(2022))"
   ]
  },
  {
   "cell_type": "markdown",
   "id": "38d239f1",
   "metadata": {},
   "source": [
    "**Задание №22**<br>\n",
    "Алгоритм вычисления значения функции F(n), где n – натуральное число, задан следующими соотношениями:<br>\n",
    "\n",
    "F(n) = 3 при n = 1;<br>\n",
    "F(n) = n + 2 + F(n − 1), если n > 1.<br>\n",
    "\n",
    "Чему равно значение выражения F(2023) – F(2021)?<br>\n",
    "\n",
    "*Источник: Открытый банк заданий ФИПИ. Задание №EFFD84.*<br>\n",
    "<details>\n",
    "  <summary><b>Показать ответ</b></summary>\n",
    "  Ответ: 4049\n",
    "</details>"
   ]
  },
  {
   "cell_type": "code",
   "execution_count": 13,
   "id": "fce0df34",
   "metadata": {},
   "outputs": [
    {
     "name": "stdout",
     "output_type": "stream",
     "text": [
      "4049\n"
     ]
    }
   ],
   "source": [
    "def F(n):\n",
    "    if n == 1:\n",
    "        return 3\n",
    "    if n > 1:\n",
    "        return n + 2 + F(n - 1)\n",
    "\n",
    "print(F(2023) - F(2021))"
   ]
  }
 ],
 "metadata": {
  "kernelspec": {
   "display_name": "Python 3",
   "language": "python",
   "name": "python3"
  },
  "language_info": {
   "codemirror_mode": {
    "name": "ipython",
    "version": 3
   },
   "file_extension": ".py",
   "mimetype": "text/x-python",
   "name": "python",
   "nbconvert_exporter": "python",
   "pygments_lexer": "ipython3",
   "version": "3.10.7"
  }
 },
 "nbformat": 4,
 "nbformat_minor": 5
}
