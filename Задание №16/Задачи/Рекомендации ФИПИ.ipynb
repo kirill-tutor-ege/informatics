{
 "cells": [
  {
   "cell_type": "markdown",
   "id": "39f2e9a8",
   "metadata": {},
   "source": [
    "# Задачи. Рекомендации ФИПИ.\n",
    "\n",
    "В этом файле собраны все задачи, рекомендованные ФИПИ для подготовки к заданию №16 из ЕГЭ по информатике"
   ]
  },
  {
   "cell_type": "markdown",
   "id": "4df61ecd",
   "metadata": {},
   "source": [
    "\n",
    "**Задание №1**<br>\n",
    "Алгоритм вычисления значения функции F(n), где n – натуральное число, задан следующими соотношениями:<br>\n",
    "\n",
    "F(n) = 1 при n < 3;<br>\n",
    "F(n) = F(n − 2) − F(n − 1), если n > 2 и при этом n чётно;<br>\n",
    "F(n) = 2 × F(n − 1) − F(n − 2), если n > 2 и при этом n нечётно.<br>\n",
    "\n",
    "Чему равно значение функции F(15)?<br>\n",
    "*Источник: Открытый банк заданий ФИПИ. Задание №859446.*<br>\n",
    "<details>\n",
    "  <summary><b>Показать ответ</b></summary>\n",
    "  Ответ: 99\n",
    "</details>"
   ]
  },
  {
   "cell_type": "code",
   "execution_count": 1,
   "id": "a871ab1e",
   "metadata": {},
   "outputs": [
    {
     "name": "stdout",
     "output_type": "stream",
     "text": [
      "99\n"
     ]
    }
   ],
   "source": [
    "def F(n):\n",
    "    if n < 3:\n",
    "        return 1\n",
    "    if n > 2 and n % 2 == 0:\n",
    "        return F(n - 2) - F(n - 1)\n",
    "    if n > 2 and n % 2 != 0:\n",
    "        return 2 * F(n - 1) - F(n - 2)\n",
    "\n",
    "print(F(15))"
   ]
  },
  {
   "cell_type": "markdown",
   "id": "91ad5b4b",
   "metadata": {},
   "source": [
    "\n",
    "**Задание №2**<br>\n",
    "Алгоритм вычисления значения функции F(n), где n – натуральное число, задан следующими соотношениями:<br>\n",
    "\n",
    "F(n) = 6 при n < 7;<br>\n",
    "F(n) = n + F(n − 1), если n ≥ 7.<br>\n",
    "\n",
    "Чему равно значение выражения F(2023) – F(2021)?<br>\n",
    "*Источник: Открытый банк заданий ФИПИ. Задание №DB8EF2.*<br>\n",
    "<details>\n",
    "  <summary><b>Показать ответ</b></summary>\n",
    "  Ответ: 4045\n",
    "</details>"
   ]
  },
  {
   "cell_type": "code",
   "execution_count": 2,
   "id": "ec0e9bfc",
   "metadata": {},
   "outputs": [
    {
     "name": "stdout",
     "output_type": "stream",
     "text": [
      "4045\n"
     ]
    }
   ],
   "source": [
    "def F(n):\n",
    "    if n < 7:\n",
    "        return 6\n",
    "    if n >= 7:\n",
    "        return n + F(n - 1)\n",
    "\n",
    "print(F(2023) - F(2021))"
   ]
  },
  {
   "cell_type": "markdown",
   "id": "1742da87",
   "metadata": {},
   "source": [
    "\n",
    "**Задание №3**<br>\n",
    "\n",
    "Алгоритм вычисления значения функции F(n), где n – натуральное число, задан следующими соотношениями:<br>\n",
    "\n",
    "F(n) = 10 при n < 11;<br>\n",
    "F(n) = n + F(n − 1), если n ≥ 11.<br>\n",
    "\n",
    "Чему равно значение выражения F(2024) – F(2021)?<br>\n",
    "*Источник: Открытый банк заданий ФИПИ. Задание №5838F2.*<br>\n",
    "<details>\n",
    "  <summary><b>Показать ответ</b></summary>\n",
    "  Ответ: 6069\n",
    "</details>"
   ]
  },
  {
   "cell_type": "code",
   "execution_count": 3,
   "id": "ea154188",
   "metadata": {},
   "outputs": [
    {
     "name": "stdout",
     "output_type": "stream",
     "text": [
      "6069\n"
     ]
    }
   ],
   "source": [
    "def F(n):\n",
    "    if n < 11:\n",
    "        return 10\n",
    "    if n >= 11:\n",
    "        return n + F(n - 1)\n",
    "\n",
    "print(F(2024) - F(2021))"
   ]
  },
  {
   "cell_type": "markdown",
   "id": "48b22679",
   "metadata": {},
   "source": [
    "\n",
    "**Задание №4**<br>\n",
    "Алгоритм вычисления значения функции F(n), где n – натуральное число, задан следующими соотношениями:<br>\n",
    "\n",
    "F(n) = 1 при n < 3;<br>\n",
    "F(n) = F(n − 2) − F(n − 1), если n > 2 и при этом n чётно;<br>\n",
    "F(n) = 2 × F(n − 1) − F(n − 2), если n > 2 и при этом n нечётно.<br>\n",
    "\n",
    "Чему равно значение функции F(31)?<br>\n",
    "*Источник: Открытый банк заданий ФИПИ. Задание №4D7975.*<br>\n",
    "<details>\n",
    "  <summary><b>Показать ответ</b></summary>\n",
    "  Ответ: 114243\n",
    "</details>"
   ]
  },
  {
   "cell_type": "code",
   "execution_count": 4,
   "id": "bda89021",
   "metadata": {},
   "outputs": [
    {
     "name": "stdout",
     "output_type": "stream",
     "text": [
      "114243\n"
     ]
    }
   ],
   "source": [
    "def F(n):\n",
    "    if n < 3:\n",
    "        return 1\n",
    "    if n > 2 and n % 2 == 0:\n",
    "        return F(n - 2) - F(n - 1)\n",
    "    if n > 2 and n % 2 != 0:\n",
    "        return 2 * F(n - 1) - F(n - 2)\n",
    "\n",
    "print(F(31))"
   ]
  },
  {
   "cell_type": "markdown",
   "id": "1e13eb0c",
   "metadata": {},
   "source": [
    "\n",
    "**Задание №5**<br>\n",
    "Алгоритм вычисления значения функции F(n), где n – натуральное число, задан следующими соотношениями:<br>\n",
    "\n",
    "F(n) = 3 при n < 3;<br>\n",
    "F(n) = n + F(n − 2), если n ≥ 3.<br>\n",
    "\n",
    "Чему равно значение выражения F(2022) – F(2018)?<br>\n",
    "*Источник: Открытый банк заданий ФИПИ. Задание №0E2072.*<br>\n",
    "<details>\n",
    "  <summary><b>Показать ответ</b></summary>\n",
    "  Ответ: 4042\n",
    "</details>"
   ]
  },
  {
   "cell_type": "code",
   "execution_count": 5,
   "id": "eb42a556",
   "metadata": {},
   "outputs": [
    {
     "name": "stdout",
     "output_type": "stream",
     "text": [
      "4042\n"
     ]
    }
   ],
   "source": [
    "def F(n):\n",
    "    if n < 3:\n",
    "        return 3\n",
    "    if n >= 3:\n",
    "        return n + F(n - 2)\n",
    "    \n",
    "print(F(2022) - F(2018))"
   ]
  },
  {
   "cell_type": "markdown",
   "id": "6c0cd8f2",
   "metadata": {},
   "source": [
    "\n",
    "**Задание №6**<br>\n",
    "Алгоритм вычисления значения функции F(n), где n – натуральное число, задан следующими соотношениями:<br>\n",
    "\n",
    "F(n) = 1 при n = 1;<br>\n",
    "F(n) = n + F(n − 1), если n > 1.<br>\n",
    "\n",
    "Чему равно значение выражения F(2023) – F(2020)?<br>\n",
    "*Источник: Открытый банк заданий ФИПИ. Задание №7C657B.*<br>\n",
    "<details>\n",
    "  <summary><b>Показать ответ</b></summary>\n",
    "  Ответ: 6066\n",
    "</details>"
   ]
  },
  {
   "cell_type": "code",
   "execution_count": 6,
   "id": "236ac377",
   "metadata": {},
   "outputs": [
    {
     "name": "stdout",
     "output_type": "stream",
     "text": [
      "6066\n"
     ]
    }
   ],
   "source": [
    "def F(n):\n",
    "    if n == 1:\n",
    "        return 1\n",
    "    if n > 1:\n",
    "        return n + F(n - 1)\n",
    "    \n",
    "print(F(2023) - F(2020))"
   ]
  },
  {
   "cell_type": "markdown",
   "id": "31546cf7",
   "metadata": {},
   "source": [
    "\n",
    "**Задание №7**<br>\n",
    "Алгоритм вычисления значения функции F(n), где n – целое неотрицательное число, задан следующими соотношениями:<br>\n",
    "\n",
    "F(n) = 0 при n ≤ 1;<br>\n",
    "F(n) = 2 × n + F(n − 1), если n > 1 и при этом n нечётно;<br>\n",
    "F(n) = 2 × F(n − 1) , если n > 1 и при этом n чётно.<br>\n",
    "\n",
    "Чему равно значение функции F(24)?<br>\n",
    "*Источник: Открытый банк заданий ФИПИ. Задание №4254B4.*<br>\n",
    "<details>\n",
    "  <summary><b>Показать ответ</b></summary>\n",
    "  Ответ: 40852\n",
    "</details>"
   ]
  },
  {
   "cell_type": "code",
   "execution_count": 7,
   "id": "f9d5de45",
   "metadata": {},
   "outputs": [
    {
     "name": "stdout",
     "output_type": "stream",
     "text": [
      "40852\n"
     ]
    }
   ],
   "source": [
    "def F(n):\n",
    "    if n <= 1:\n",
    "        return 0\n",
    "    if n > 1 and n % 2 != 0:\n",
    "        return 2 * n + F(n - 1)\n",
    "    if n > 1 and n % 2 == 0:\n",
    "        return 2 * F(n - 1)\n",
    "    \n",
    "print(F(24))"
   ]
  },
  {
   "cell_type": "markdown",
   "id": "1825f854",
   "metadata": {},
   "source": [
    "\n",
    "**Задание №8**<br>\n",
    "Алгоритм вычисления значения функции F(n), где n – натуральное число, задан следующими соотношениями:<br>\n",
    "\n",
    "F(n) = n при n >= 2025;<br>\n",
    "F(n) = n + 3 + F(n + 3), если n < 2025.<br>\n",
    "\n",
    "Чему равно значение выражения F(23) – F(21)?<br>\n",
    "*Источник: Открытый банк заданий ФИПИ. Задание №7C192E.*<br>\n",
    "<details>\n",
    "  <summary><b>Показать ответ</b></summary>\n",
    "  Ответ: 1338\n",
    "</details>"
   ]
  },
  {
   "cell_type": "code",
   "execution_count": 9,
   "id": "104fb726",
   "metadata": {},
   "outputs": [
    {
     "name": "stdout",
     "output_type": "stream",
     "text": [
      "1338\n"
     ]
    }
   ],
   "source": [
    "def F(n):\n",
    "    if n >= 2025:\n",
    "        return n\n",
    "    if n < 2025:\n",
    "        return n + 3 + F(n + 3)\n",
    "    \n",
    "print(F(23) - F(21))"
   ]
  },
  {
   "cell_type": "markdown",
   "id": "bdce97a4",
   "metadata": {},
   "source": [
    "\n",
    "**Задание №9**<br>\n",
    "Алгоритм вычисления значения функции F(n), где n – натуральное число, задан следующими соотношениями:<br>\n",
    "\n",
    "F(n) = 1 при n < 3;<br>\n",
    "F(n) = F(n − 1) + n − 1, если n > 2 и при этом n чётно;<br>\n",
    "F(n) = F(n − 2) + 2 × n − 2, если n > 2 и при этом n нечётно.<br>\n",
    "\n",
    "Чему равно значение функции F(36)?<br>\n",
    "*Источник: Открытый банк заданий ФИПИ. Задание №D9A32B.*<br>\n",
    "<details>\n",
    "  <summary><b>Показать ответ</b></summary>\n",
    "  Ответ: 648\n",
    "</details>"
   ]
  },
  {
   "cell_type": "code",
   "execution_count": 10,
   "id": "1f4c1efe",
   "metadata": {},
   "outputs": [
    {
     "name": "stdout",
     "output_type": "stream",
     "text": [
      "648\n"
     ]
    }
   ],
   "source": [
    "def F(n):\n",
    "    if n < 3:\n",
    "        return 1\n",
    "    if n > 2 and n % 2 == 0:\n",
    "        return F(n - 1) + n - 1\n",
    "    if n > 2 and n % 2 != 0:\n",
    "        return F(n - 2) + 2 * n - 2\n",
    "\n",
    "print(F(36))"
   ]
  },
  {
   "cell_type": "markdown",
   "id": "be70997d",
   "metadata": {},
   "source": [
    "\n",
    "**Задание №10**<br>\n",
    "Алгоритм вычисления значения функции F(n), где n – натуральное число, задан следующими соотношениями:<br>\n",
    "\n",
    "F(n) = 1 при n = 1;<br>\n",
    "F(n) = n + F(n − 1), если n чётно;<br>\n",
    "F(n) = 2 × F(n − 2), если n > 1 и при этом n нечётно.<br>\n",
    "\n",
    "Чему равно значение функции F(24)?<br>\n",
    "*Источник: Открытый банк заданий ФИПИ. Задание №4408DC.*<br>\n",
    "<details>\n",
    "  <summary><b>Показать ответ</b></summary>\n",
    "  Ответ: 2072\n",
    "</details>"
   ]
  },
  {
   "cell_type": "code",
   "execution_count": 11,
   "id": "ec2cb2a5",
   "metadata": {},
   "outputs": [
    {
     "name": "stdout",
     "output_type": "stream",
     "text": [
      "2072\n"
     ]
    }
   ],
   "source": [
    "def F(n):\n",
    "    if n == 1:\n",
    "        return 1\n",
    "    if n % 2 == 0:\n",
    "        return n + F(n - 1)\n",
    "    if n > 1 and n % 2 != 0:\n",
    "        return 2 * F(n - 2)\n",
    "\n",
    "print(F(24))"
   ]
  },
  {
   "cell_type": "markdown",
   "id": "3ca5532a",
   "metadata": {},
   "source": [
    "\n",
    "**Задание №11**<br>\n",
    "Алгоритм вычисления значения функции F(n), где n – натуральное число, задан следующими соотношениями:<br>\n",
    "\n",
    "F(n) = 1 при n < 3;<br>\n",
    "F(n) = F(n − 2) − F(n − 1), если n > 2 и при этом n чётно;<br>\n",
    "F(n) = 2 × F(n − 1) − F(n − 2), если n > 2 и при этом n нечётно.<br>\n",
    "\n",
    "Чему равно значение функции F(18)?<br>\n",
    "*Источник: Открытый банк заданий ФИПИ. Задание №1644D5.*<br>\n",
    "<details>\n",
    "  <summary><b>Показать ответ</b></summary>\n",
    "  Ответ: 169\n",
    "</details>"
   ]
  },
  {
   "cell_type": "code",
   "execution_count": 12,
   "id": "d2ba6279",
   "metadata": {},
   "outputs": [
    {
     "name": "stdout",
     "output_type": "stream",
     "text": [
      "169\n"
     ]
    }
   ],
   "source": [
    "def F(n):\n",
    "    if n < 3:\n",
    "        return 1\n",
    "    if n > 2 and n % 2 == 0:\n",
    "        return F(n - 2) - F(n - 1)\n",
    "    if n > 2 and n % 2 != 0:\n",
    "        return 2 * F(n - 1) - F(n - 2)\n",
    "\n",
    "print(F(18))"
   ]
  }
 ],
 "metadata": {
  "kernelspec": {
   "display_name": "Python 3",
   "language": "python",
   "name": "python3"
  },
  "language_info": {
   "codemirror_mode": {
    "name": "ipython",
    "version": 3
   },
   "file_extension": ".py",
   "mimetype": "text/x-python",
   "name": "python",
   "nbconvert_exporter": "python",
   "pygments_lexer": "ipython3",
   "version": "3.10.7"
  }
 },
 "nbformat": 4,
 "nbformat_minor": 5
}
