{
 "cells": [
  {
   "cell_type": "markdown",
   "id": "a5d71c89",
   "metadata": {},
   "source": [
    "# Задание №8\n",
    "\n",
    "Тема: Комбинаторика. Знание основных понятий и методов, используемых при измерении количества информации<br>\n",
    "Уровень сложности: Базовый <br>\n",
    "ПО: Python <br>\n",
    "Первичные баллы: 1 <br>\n",
    "Время выполнения: 4 минуты <br>\n",
    "\n",
    "Элементы содержания:\n",
    "- Теоретические подходы к оценке количества информации.\n",
    "- Единицы измерения количества информации.\n",
    "- Алфавитный подход к оценке количества информации.\n",
    "- Закон аддитивности информации.\n",
    "- Формула Хартли.\n",
    "- Информация и вероятность.\n",
    "- Формула Шеннона.<br>\n",
    "\n"
   ]
  },
  {
   "cell_type": "markdown",
   "id": "940b4618",
   "metadata": {},
   "source": [
    "Для решения этих задач мы используем функции из библиотеки ```itertools```, чтобы подключить её к нашей программе, необходимо написать:<br>\n",
    "P.S. Обязательно выполни этот код для работы остальных примеров"
   ]
  },
  {
   "cell_type": "code",
   "execution_count": 2,
   "id": "2b022eb9",
   "metadata": {},
   "outputs": [],
   "source": [
    "from itertools import *"
   ]
  },
  {
   "cell_type": "markdown",
   "id": "d44c1b18",
   "metadata": {},
   "source": [
    "Большинство задач в ней решается с помощью функции ```product(\"алфавит\", repeat = длина)```\n",
    "\n",
    "Эта функция генерирует все **размещения** алфавита на заданное число позиций, простыми словами: создает все возможные слова из заданного алфавита<br>\n",
    "Результат выполнения функции — кортеж(tuple) кортежей символов<br>\n",
    "Пример:"
   ]
  },
  {
   "cell_type": "code",
   "execution_count": 3,
   "id": "67fd0df9",
   "metadata": {
    "slideshow": {
     "slide_type": "slide"
    }
   },
   "outputs": [
    {
     "name": "stdout",
     "output_type": "stream",
     "text": [
      "('A', 'A') ('A', 'B') ('A', 'C') ('B', 'A') ('B', 'B') ('B', 'C') ('C', 'A') ('C', 'B') ('C', 'C')\n"
     ]
    }
   ],
   "source": [
    "print(*product(\"ABC\", repeat = 2))"
   ]
  },
  {
   "cell_type": "markdown",
   "id": "c342d138",
   "metadata": {},
   "source": [
    "Также периодически мы используем ```permutatuions(\"алфавит\", r = длина)``` для решения, **r - необязательный параметр(по умолчанию равен размеру алфавита)**\n",
    "\n",
    "Эта функция генерирует все **перестановки** алфавита на заданное число позиций, проще говоря буквально переставляет в нем все символы<br>\n",
    "Результат выполнения функции — кортеж(tuple) кортежей символов<br>\n",
    "Пример:"
   ]
  },
  {
   "cell_type": "code",
   "execution_count": null,
   "id": "f60ee9e3",
   "metadata": {},
   "outputs": [],
   "source": [
    "print(*permutations(\"ABC\", r = 2))"
   ]
  },
  {
   "cell_type": "markdown",
   "id": "25707248",
   "metadata": {},
   "source": [
    "Кортеж(tuple) — итерируемый объект(тот, по которому можно пройтись циклом), поэтому для рассмотрения всех получившихся слов по отдельности мы используем цикл"
   ]
  },
  {
   "cell_type": "code",
   "execution_count": null,
   "id": "4a5f7ebe",
   "metadata": {},
   "outputs": [],
   "source": [
    "print(\"Результат перебора циклом функции product:\")\n",
    "for i in product(\"AB\", repeat = 2):\n",
    "    print(i)\n",
    "\n",
    "print(\"Результат перебора циклом функции permutations:\")\n",
    "for i in permutations(\"ABC\"):\n",
    "    print(i)"
   ]
  },
  {
   "cell_type": "markdown",
   "id": "d515f42b",
   "metadata": {},
   "source": [
    "Кортеж строк — неудобная для нас структура данных, поэтому мы превращаем её в строку следующей командой:<br>\n",
    "```\"\".join(кортеж строк)```\n",
    "\n",
    "В нашем случае это будет выглядеть так:"
   ]
  },
  {
   "cell_type": "code",
   "execution_count": null,
   "id": "f832e7d7",
   "metadata": {},
   "outputs": [],
   "source": [
    "print(\"Результат перебора циклом функции product с преобразованием в строки:\")\n",
    "for i in product(\"AB\", repeat = 2):\n",
    "    word = \"\".join(i)\n",
    "    print(word)\n",
    "\n",
    "print(\"Результат перебора циклом функции permutations с преобразованием в строки:\")\n",
    "for i in permutations(\"ABC\"):\n",
    "    word = \"\".join(i)\n",
    "    print(word)"
   ]
  },
  {
   "cell_type": "markdown",
   "id": "e5782663",
   "metadata": {},
   "source": [
    "Глобально существует два вида задач:\n",
    "\n",
    "Поиск количества слов, удовлетворяющих условию\n",
    "```python\n",
    "count = 0\n",
    "for … in …:\n",
    "    if условие:\n",
    "        count += 1\n",
    "print(count)\n",
    "```\n",
    "\n",
    "Определение порядкового номера слова, удовлетворяющего условию\n",
    "```python\n",
    "number = 0\n",
    "for … in …:\n",
    "    number += 1\n",
    "    if условие:\n",
    "        print(number)\n",
    "```\n"
   ]
  },
  {
   "cell_type": "markdown",
   "id": "03ae9a45",
   "metadata": {},
   "source": [
    "#### Часто встречающиеся условия"
   ]
  },
  {
   "cell_type": "code",
   "execution_count": 18,
   "id": "418c8baf",
   "metadata": {},
   "outputs": [
    {
     "data": {
      "application/vnd.jupyter.widget-view+json": {
       "model_id": "1f23470044604bb0bc05b477c47055f3",
       "version_major": 2,
       "version_minor": 0
      },
      "text/plain": [
       "Turtle()"
      ]
     },
     "execution_count": 18,
     "metadata": {},
     "output_type": "execute_result"
    }
   ],
   "source": [
    "from ipyturtle import Turtle\n",
    "t = Turtle()\n",
    "t.forward(100)\n",
    "t  # Этот вызов отобразит черепаху в выводе ячейки"
   ]
  }
 ],
 "metadata": {
  "kernelspec": {
   "display_name": "Python 3",
   "language": "python",
   "name": "python3"
  },
  "language_info": {
   "codemirror_mode": {
    "name": "ipython",
    "version": 3
   },
   "file_extension": ".py",
   "mimetype": "text/x-python",
   "name": "python",
   "nbconvert_exporter": "python",
   "pygments_lexer": "ipython3",
   "version": "3.10.7"
  }
 },
 "nbformat": 4,
 "nbformat_minor": 5
}
