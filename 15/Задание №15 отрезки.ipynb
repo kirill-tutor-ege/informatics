{
 "cells": [
  {
   "cell_type": "markdown",
   "metadata": {},
   "source": [
    "### №15 Задание на отрезки\n",
    "\n",
    "p1, p2, p3, p4 - точки, которые есть в задании(пишем всегда в порядке возрастания)\n",
    "\n",
    "Пример:\n",
    "Даны два отрезка: P = [10, 30], Q = [12, 42]\n",
    "Тогда:\n",
    "- p1 = 10\n",
    "- p2 = 12\n",
    "- p3 = 30\n",
    "- p4 = 40\n",
    "\n",
    "Чтобы проверить условие из разряда x ∈ P (P = [10, 30]):\n",
    "**10<=x<=30**\n",
    "\n",
    "В общем виде: \n",
    "**start<=x<=end**\n",
    "\n",
    "Шаблон\n",
    "```python\n",
    "f = lambda x, start, end: наша функция\n",
    "for start in p1, p2, p3, p4:\n",
    "    for end in p1, p2, p3, p4:\n",
    "        if start < end:\n",
    "            if all(f(x, start, end) for x in [p1-1, p2-1, p3-1, p4-1, p4+1]):\n",
    "                print(end - start)\n",
    "```\n",
    "\n",
    "Пример:\n",
    "На числовой прямой даны два отрезка: P = [15; 40] и Q = [21; 63]. Укажите наименьшую возможную длину такого отрезка A, что формула\n",
    "\n",
    "(x ∈ P) → (((x ∈ Q) ∧ ¬(x ∈ A)) → ¬(x ∈ P))\n",
    "\n",
    "тождественно истинна, то есть принимает значение 1 при любом значении переменной х?"
   ]
  },
  {
   "cell_type": "code",
   "execution_count": null,
   "metadata": {},
   "outputs": [],
   "source": [
    "f = lambda x, start, end: (15<=x<=40) <= (((21<=x<=63) and not(start<=x<=end)) <= (not(15<=x<=40)))\n",
    "for start in 15, 21, 40, 63:\n",
    "    for end in 15, 21, 40, 63:\n",
    "        if start < end:\n",
    "            if all(f(x, start, end) for x in [14, 20, 39, 62, 64]):\n",
    "                print(end - start)"
   ]
  }
 ],
 "metadata": {
  "kernelspec": {
   "display_name": "Python 3",
   "language": "python",
   "name": "python3"
  },
  "language_info": {
   "codemirror_mode": {
    "name": "ipython",
    "version": 3
   },
   "file_extension": ".py",
   "mimetype": "text/x-python",
   "name": "python",
   "nbconvert_exporter": "python",
   "pygments_lexer": "ipython3",
   "version": "3.10.7"
  }
 },
 "nbformat": 4,
 "nbformat_minor": 2
}
